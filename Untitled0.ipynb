{
 "metadata": {
  "name": "",
  "signature": "sha256:89ca7333786bb02d9cea4bd6179582aa8a15c1d6d4a1b0ff9d3262007d99a914"
 },
 "nbformat": 3,
 "nbformat_minor": 0,
 "worksheets": []
}