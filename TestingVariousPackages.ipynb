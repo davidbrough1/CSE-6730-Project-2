{
 "metadata": {
  "name": "",
  "signature": "sha256:89afb4307e424725a9bb1fe622ae91c2ee912ead332c3e78ff79ee190997d005"
 },
 "nbformat": 3,
 "nbformat_minor": 0,
 "worksheets": [
  {
   "cells": [
    {
     "cell_type": "code",
     "collapsed": false,
     "input": [
      "from numpy import *\n",
      "a = arange(10).reshape(5,2)\n",
      "#print a\n",
      "#print a.shape\n",
      "a = arange(20).reshape(5,2,2)\n",
      "#print a[(1,1,1) , : , :]**2\n",
      "a[a>2]**=2\n",
      "#print a\n",
      "for column in a.flat:\n",
      "    print column\n",
      "a = a.ravel()\n",
      "#print a"
     ],
     "language": "python",
     "metadata": {},
     "outputs": [
      {
       "output_type": "stream",
       "stream": "stdout",
       "text": [
        "0\n",
        "1\n",
        "2\n",
        "9\n",
        "16\n",
        "25\n",
        "36\n",
        "49\n",
        "64\n",
        "81\n",
        "100\n",
        "121\n",
        "144\n",
        "169\n",
        "196\n",
        "225\n",
        "256\n",
        "289\n",
        "324\n",
        "361\n"
       ]
      }
     ],
     "prompt_number": 28
    },
    {
     "cell_type": "code",
     "collapsed": false,
     "input": [
      "from numpy import * \n",
      "f = open('testPBC.dat', 'r')\n",
      "curLine = f.readline()\n",
      "\n",
      "while(curLine != \"\" and \"NUMBER OF ELEMENTS IS\" not in curLine):\n",
      "    curLine = f.readline()\n",
      "#get number of elements to loop through    \n",
      "numElements = int((curLine.split())[4])\n",
      "print numElements\n",
      "\n",
      "\n",
      "#find start of element data\n",
      "while(curLine != \"\" and \"THE FOLLOWING TABLE IS PRINTED FOR ALL ELEMENTS \"\\\n",
      "      \"WITH TYPE C3D8 AT THE INTEGRATION POINTS\" not in curLine):\n",
      "    curLine = f.readline()\n",
      "for i in range(0,5):\n",
      "    curLine = f.readline()\n",
      "    \n",
      "#create storage of element values, only strain in 11 direction currently\n",
      "#numStrains are the numeric values for 11, 22, 33, 12, 13, 23 strains \n",
      "numStrains = range(0,1)\n",
      "strains = zeros( (numElements*8,size(numStrains)) )\n",
      "for i in range(0,numElements*8):\n",
      "    splitStr = curLine.split()\n",
      "    for j in numStrains:\n",
      "        strains[i,j] = float(splitStr[2+j])\n",
      "    curLine = f.readline()\n",
      "#print strains[9251,0]"
     ],
     "language": "python",
     "metadata": {},
     "outputs": [
      {
       "output_type": "stream",
       "stream": "stdout",
       "text": [
        "9261\n",
        "0.001"
       ]
      },
      {
       "output_type": "stream",
       "stream": "stdout",
       "text": [
        "\n"
       ]
      }
     ],
     "prompt_number": 23
    },
    {
     "cell_type": "code",
     "collapsed": false,
     "input": [
      "import csv\n",
      "import numpy as np\n",
      "import pylab as pl\n",
      "from sklearn import datasets, linear_model\n",
      "\n",
      "with open('testData.csv', 'rU') as csvfile:\n",
      "    test = csv.reader(csvfile, dialect='excel')\n",
      "    i = 0\n",
      "    a = array(range(60),dtype=float64).reshape(30,2)\n",
      "    for row in test:\n",
      "        #print type(row)\n",
      "        #print ', '.join(row)\n",
      "        a[i,:] = row[0:2]\n",
      "        i+=1\n",
      "#print a[:,0].reshape(30,1)\n",
      "regr = linear_model.LinearRegression()\n",
      "regr.fit(a[:,0].reshape(30,1), a[:,1].reshape(30,1))\n",
      "print regr.coef_\n",
      "print regr.intercept_\n",
      "print(\"Residual sum of squares: %.2f\" % np.mean((regr.predict(a[:,0].reshape(30,1)) - a[:,1].reshape(30,1)) ** 2))\n"
     ],
     "language": "python",
     "metadata": {},
     "outputs": [
      {
       "output_type": "stream",
       "stream": "stdout",
       "text": [
        "[[ 4.9721438]]\n",
        "[ 3.04935647]\n",
        "Residual sum of squares: 0.77\n"
       ]
      }
     ],
     "prompt_number": 51
    },
    {
     "cell_type": "code",
     "collapsed": false,
     "input": [],
     "language": "python",
     "metadata": {},
     "outputs": []
    }
   ],
   "metadata": {}
  }
 ]
}