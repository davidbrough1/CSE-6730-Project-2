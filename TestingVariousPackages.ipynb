{
 "metadata": {
  "name": "",
  "signature": "sha256:043a4fa2b7ea2c9ec2d6eb9cdf93bdbd8443e0bb37795fd36a0c1a9782926648"
 },
 "nbformat": 3,
 "nbformat_minor": 0,
 "worksheets": [
  {
   "cells": [
    {
     "cell_type": "code",
     "collapsed": false,
     "input": [
      "from numpy import *\n",
      "a = arange(10).reshape(5,2)\n",
      "#print a\n",
      "#print a.shape\n",
      "a = arange(20).reshape(5,2,2)\n",
      "#print a[(1,1,1) , : , :]**2\n",
      "a[a>2]**=2\n",
      "#print a\n",
      "for column in a.flat:\n",
      "    print column\n",
      "a = a.ravel()\n",
      "#print a"
     ],
     "language": "python",
     "metadata": {},
     "outputs": [
      {
       "output_type": "stream",
       "stream": "stdout",
       "text": [
        "0\n",
        "1\n",
        "2\n",
        "9\n",
        "16\n",
        "25\n",
        "36\n",
        "49\n",
        "64\n",
        "81\n",
        "100\n",
        "121\n",
        "144\n",
        "169\n",
        "196\n",
        "225\n",
        "256\n",
        "289\n",
        "324\n",
        "361\n"
       ]
      }
     ],
     "prompt_number": 28
    },
    {
     "cell_type": "code",
     "collapsed": false,
     "input": [
      "import csv\n",
      "import numpy as np\n",
      "import pylab as pl\n",
      "from sklearn import datasets, linear_model\n",
      "\n",
      "with open('testData.csv', 'rU') as csvfile:\n",
      "    test = csv.reader(csvfile, dialect='excel')\n",
      "    i = 0\n",
      "    a = array(range(60),dtype=float64).reshape(30,2)\n",
      "    for row in test:\n",
      "        #print type(row)\n",
      "        #print ', '.join(row)\n",
      "        a[i,:] = row[0:2]\n",
      "        i+=1\n",
      "#print a[:,0].reshape(30,1)\n",
      "regr = linear_model.LinearRegression()\n",
      "regr.fit(a[:,0].reshape(30,1), a[:,1].reshape(30,1))\n",
      "print regr.coef_\n",
      "print regr.intercept_\n",
      "print(\"Residual sum of squares: %.2f\" % np.mean((regr.predict(a[:,0].reshape(30,1)) - a[:,1].reshape(30,1)) ** 2))\n"
     ],
     "language": "python",
     "metadata": {},
     "outputs": [
      {
       "output_type": "stream",
       "stream": "stdout",
       "text": [
        "[[ 4.9721438]]\n",
        "[ 3.04935647]\n",
        "Residual sum of squares: 0.77\n"
       ]
      }
     ],
     "prompt_number": 51
    },
    {
     "cell_type": "code",
     "collapsed": false,
     "input": [],
     "language": "python",
     "metadata": {},
     "outputs": []
    }
   ],
   "metadata": {}
  }
 ]
}