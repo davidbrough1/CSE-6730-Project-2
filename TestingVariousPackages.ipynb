{
 "metadata": {
  "name": "",
  "signature": "sha256:c1e55af797eac0f95dac2cb61bc2ead54064d59b2fbc4665f33761e3d271c35d"
 },
 "nbformat": 3,
 "nbformat_minor": 0,
 "worksheets": [
  {
   "cells": [
    {
     "cell_type": "code",
     "collapsed": false,
     "input": [
      "from numpy import *\n",
      "a = arange(10).reshape(5,2)\n",
      "#print a\n",
      "#print a.shape\n",
      "a = arange(20).reshape(5,2,2)\n",
      "a[1,1,:] = arange(0,2)\n",
      "#print a[(1,1,1) , : , :]**2\n",
      "a[a>2]**=2\n",
      "#print a\n",
      "for column in a.flat:\n",
      "    print column\n",
      "a = a.ravel()\n",
      "#print a\n",
      "for i in range(0,10):\n",
      "    print i"
     ],
     "language": "python",
     "metadata": {},
     "outputs": [
      {
       "output_type": "stream",
       "stream": "stdout",
       "text": [
        "0\n",
        "1\n",
        "2\n",
        "9\n",
        "16\n",
        "25\n",
        "0\n",
        "1\n",
        "64\n",
        "81\n",
        "100\n",
        "121\n",
        "144\n",
        "169\n",
        "196\n",
        "225\n",
        "256\n",
        "289\n",
        "324\n",
        "361\n",
        "0\n",
        "1\n",
        "2\n",
        "3\n",
        "4\n",
        "5\n",
        "6\n",
        "7\n",
        "8\n",
        "9\n"
       ]
      }
     ],
     "prompt_number": 27
    },
    {
     "cell_type": "code",
     "collapsed": false,
     "input": [
      "from numpy import * \n",
      "f = open('17_2phase.dat', 'r')\n",
      "cur_line = f.readline()\n",
      "while(cur_line != \"\" and \"NUMBER OF ELEMENTS IS\" not in cur_line):\n",
      "    cur_line = f.readline()\n",
      "#get number of elements to loop through\n",
      "num_elements = int((cur_line.split())[4])\n",
      "\n",
      "\n",
      "#find start of element data\n",
      "while(cur_line != \"\" and \"THE FOLLOWING TABLE IS PRINTED FOR ALL ELEMENTS \"\\\n",
      "      \"WITH TYPE C3D8 AT THE INTEGRATION POINTS\" not in cur_line):\n",
      "    cur_line = f.readline()\n",
      "for i in range(0,5):\n",
      "    cur_line = f.readline()\n",
      "    \n",
      "#create storage of element values, only strain in 11 direction currently\n",
      "#numStrains are the numeric values for 11, 22, 33, 12, 13, 23 strains\n",
      "#                         respectively  0,  1, 2 , 3,  4,  5\n",
      "num_strains = range(0,1)\n",
      "dim_length = ceil(num_elements ** (1/3.0))\n",
      "layer_size = dim_length ** 2\n",
      "strains = zeros( (dim_length,dim_length,dim_length,size(num_strains)) )\n",
      "integration_point_strains = zeros( (8,size(num_strains)) )\n",
      "#1st dim = x, 2nd dim = y, 3rd dim = z\n",
      "for i in range(0,num_elements):\n",
      "    z = i%dim_length\n",
      "    y = (i%layer_size)/dim_length\n",
      "    x = i/layer_size\n",
      "    #average strains over the 8 integration points for c3d8\n",
      "    for k in range(0,8):\n",
      "        split_str = cur_line.split()\n",
      "        for j in num_strains:\n",
      "            integration_point_strains[k,j] = float(split_str[2+j])\n",
      "        cur_line = f.readline()\n",
      "    strains[x,y,z,:] = integration_point_strains.mean(axis=0)\n",
      "print strains[0,0,0,0]\n",
      "#for single strain case reshape strains to only 3d array\n",
      "strains = strains[:,:,:,0]\n",
      "response_k = np.fft.fftn(strains)\n",
      "coeff = zeros( (dim_length,dim_length,dim_length, 2) )\n",
      "print response_k.shape[0]\n"
     ],
     "language": "python",
     "metadata": {},
     "outputs": [
      {
       "output_type": "stream",
       "stream": "stdout",
       "text": [
        "0.0009334325\n",
        "21\n"
       ]
      },
      {
       "output_type": "stream",
       "stream": "stderr",
       "text": [
        "-c:43: RuntimeWarning: divide by zero encountered in divide\n",
        "-c:43: RuntimeWarning: invalid value encountered in divide\n",
        "-c:43: ComplexWarning: Casting complex values to real discards the imaginary part\n"
       ]
      }
     ],
     "prompt_number": 63
    },
    {
     "cell_type": "code",
     "collapsed": false,
     "input": [
      "import csv\n",
      "import numpy as np\n",
      "import pylab as pl\n",
      "from sklearn import datasets, linear_model\n",
      "\n",
      "with open('testData.csv', 'rU') as csvfile:\n",
      "    test = csv.reader(csvfile, dialect='excel')\n",
      "    i = 0\n",
      "    a = array(range(60),dtype=float64).reshape(30,2)\n",
      "    for row in test:\n",
      "        #print type(row)\n",
      "        #print ', '.join(row)\n",
      "        a[i,:] = row[0:2]\n",
      "        i+=1\n",
      "#print a[:,0].reshape(30,1)\n",
      "regr = linear_model.LinearRegression()\n",
      "regr.fit(a[:,0].reshape(30,1), a[:,1].reshape(30,1))\n",
      "print regr.coef_\n",
      "print regr.intercept_\n",
      "print(\"Residual sum of squares: %.2f\" % np.mean((regr.predict(a[:,0].reshape(30,1)) - a[:,1].reshape(30,1)) ** 2))\n"
     ],
     "language": "python",
     "metadata": {},
     "outputs": [
      {
       "output_type": "stream",
       "stream": "stdout",
       "text": [
        "[[ 4.9721438]]\n",
        "[ 3.04935647]\n",
        "Residual sum of squares: 0.77\n"
       ]
      }
     ],
     "prompt_number": 42
    },
    {
     "cell_type": "code",
     "collapsed": false,
     "input": [],
     "language": "python",
     "metadata": {},
     "outputs": []
    }
   ],
   "metadata": {}
  }
 ]
}