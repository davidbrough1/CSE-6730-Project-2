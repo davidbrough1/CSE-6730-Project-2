{
 "metadata": {
  "name": "",
  "signature": "sha256:b09515c47ea60098536f5b0e4922441d2fe6db2ce437e7424d9ea8d140f95326"
 },
 "nbformat": 3,
 "nbformat_minor": 0,
 "worksheets": [
  {
   "cells": [
    {
     "cell_type": "code",
     "collapsed": false,
     "input": [
      "from MKS import *\n",
      "from numpy import *\n",
      "MSf1 = GenDelta(17,True)\n",
      "MSf2 = GenDelta(17,False)\n",
      "GenC(MSf1, MSf2, '17_2phase.dat', '17_2phase.dat', .02)"
     ],
     "language": "python",
     "metadata": {},
     "outputs": [
      {
       "ename": "TypeError",
       "evalue": "'int' object is not iterable",
       "output_type": "pyerr",
       "traceback": [
        "\u001b[0;31m---------------------------------------------------------------------------\u001b[0m\n\u001b[0;31mTypeError\u001b[0m                                 Traceback (most recent call last)",
        "\u001b[0;32m<ipython-input-4-a444d0440675>\u001b[0m in \u001b[0;36m<module>\u001b[0;34m()\u001b[0m\n\u001b[1;32m      3\u001b[0m \u001b[0mMSf1\u001b[0m \u001b[0;34m=\u001b[0m \u001b[0mGenDelta\u001b[0m\u001b[0;34m(\u001b[0m\u001b[0;36m17\u001b[0m\u001b[0;34m,\u001b[0m\u001b[0mTrue\u001b[0m\u001b[0;34m)\u001b[0m\u001b[0;34m\u001b[0m\u001b[0m\n\u001b[1;32m      4\u001b[0m \u001b[0mMSf2\u001b[0m \u001b[0;34m=\u001b[0m \u001b[0mGenDelta\u001b[0m\u001b[0;34m(\u001b[0m\u001b[0;36m17\u001b[0m\u001b[0;34m,\u001b[0m\u001b[0mFalse\u001b[0m\u001b[0;34m)\u001b[0m\u001b[0;34m\u001b[0m\u001b[0m\n\u001b[0;32m----> 5\u001b[0;31m \u001b[0mGenC\u001b[0m\u001b[0;34m(\u001b[0m\u001b[0mMSf1\u001b[0m\u001b[0;34m,\u001b[0m \u001b[0mMSf2\u001b[0m\u001b[0;34m,\u001b[0m \u001b[0;34m'17_2phase.dat'\u001b[0m\u001b[0;34m,\u001b[0m \u001b[0;34m'17_2phase.dat'\u001b[0m\u001b[0;34m,\u001b[0m \u001b[0;36m.02\u001b[0m\u001b[0;34m)\u001b[0m\u001b[0;34m\u001b[0m\u001b[0m\n\u001b[0m",
        "\u001b[0;32m/Users/paulkern/Documents/Dropbox/CX4230/CX4230-Project2/MKS.py\u001b[0m in \u001b[0;36mGenC\u001b[0;34m(MicroSF_1, MicroSF_2, ABout1, ABout2, Macro)\u001b[0m\n\u001b[1;32m     64\u001b[0m \u001b[0;34m\u001b[0m\u001b[0m\n\u001b[1;32m     65\u001b[0m         \u001b[0;31m#calculate DFT space responses and microstructure functions\u001b[0m\u001b[0;34m\u001b[0m\u001b[0;34m\u001b[0m\u001b[0m\n\u001b[0;32m---> 66\u001b[0;31m         \u001b[0mresponse_1_k\u001b[0m \u001b[0;34m=\u001b[0m \u001b[0mnp\u001b[0m\u001b[0;34m.\u001b[0m\u001b[0mfft\u001b[0m\u001b[0;34m.\u001b[0m\u001b[0mfftn\u001b[0m\u001b[0;34m(\u001b[0m\u001b[0mstrains_1\u001b[0m\u001b[0;34m,\u001b[0m \u001b[0mstrains_1\u001b[0m\u001b[0;34m.\u001b[0m\u001b[0msize\u001b[0m\u001b[0;34m,\u001b[0m \u001b[0;34m[\u001b[0m\u001b[0;36m0\u001b[0m\u001b[0;34m,\u001b[0m\u001b[0;36m1\u001b[0m\u001b[0;34m,\u001b[0m\u001b[0;36m2\u001b[0m\u001b[0;34m]\u001b[0m\u001b[0;34m)\u001b[0m\u001b[0;34m\u001b[0m\u001b[0m\n\u001b[0m\u001b[1;32m     67\u001b[0m         \u001b[0mmicro_1_k\u001b[0m \u001b[0;34m=\u001b[0m \u001b[0mnp\u001b[0m\u001b[0;34m.\u001b[0m\u001b[0mfft\u001b[0m\u001b[0;34m.\u001b[0m\u001b[0mfftn\u001b[0m\u001b[0;34m(\u001b[0m\u001b[0mMicroSF_1\u001b[0m\u001b[0;34m,\u001b[0m \u001b[0mMicroSF_1\u001b[0m\u001b[0;34m.\u001b[0m\u001b[0msize\u001b[0m\u001b[0;34m,\u001b[0m \u001b[0;34m[\u001b[0m\u001b[0;36m0\u001b[0m\u001b[0;34m,\u001b[0m\u001b[0;36m1\u001b[0m\u001b[0;34m,\u001b[0m\u001b[0;36m2\u001b[0m\u001b[0;34m]\u001b[0m\u001b[0;34m)\u001b[0m\u001b[0;34m\u001b[0m\u001b[0m\n\u001b[1;32m     68\u001b[0m \u001b[0;34m\u001b[0m\u001b[0m\n",
        "\u001b[0;32m/Library/Python/2.7/site-packages/numpy-1.9.0.dev_297f54b-py2.7-macosx-10.9-intel.egg/numpy/fft/fftpack.pyc\u001b[0m in \u001b[0;36mfftn\u001b[0;34m(a, s, axes)\u001b[0m\n\u001b[1;32m    657\u001b[0m     \"\"\"\n\u001b[1;32m    658\u001b[0m \u001b[0;34m\u001b[0m\u001b[0m\n\u001b[0;32m--> 659\u001b[0;31m     \u001b[0;32mreturn\u001b[0m \u001b[0m_raw_fftnd\u001b[0m\u001b[0;34m(\u001b[0m\u001b[0ma\u001b[0m\u001b[0;34m,\u001b[0m \u001b[0ms\u001b[0m\u001b[0;34m,\u001b[0m \u001b[0maxes\u001b[0m\u001b[0;34m,\u001b[0m \u001b[0mfft\u001b[0m\u001b[0;34m)\u001b[0m\u001b[0;34m\u001b[0m\u001b[0m\n\u001b[0m\u001b[1;32m    660\u001b[0m \u001b[0;34m\u001b[0m\u001b[0m\n\u001b[1;32m    661\u001b[0m \u001b[0;32mdef\u001b[0m \u001b[0mifftn\u001b[0m\u001b[0;34m(\u001b[0m\u001b[0ma\u001b[0m\u001b[0;34m,\u001b[0m \u001b[0ms\u001b[0m\u001b[0;34m=\u001b[0m\u001b[0mNone\u001b[0m\u001b[0;34m,\u001b[0m \u001b[0maxes\u001b[0m\u001b[0;34m=\u001b[0m\u001b[0mNone\u001b[0m\u001b[0;34m)\u001b[0m\u001b[0;34m:\u001b[0m\u001b[0;34m\u001b[0m\u001b[0m\n",
        "\u001b[0;32m/Library/Python/2.7/site-packages/numpy-1.9.0.dev_297f54b-py2.7-macosx-10.9-intel.egg/numpy/fft/fftpack.pyc\u001b[0m in \u001b[0;36m_raw_fftnd\u001b[0;34m(a, s, axes, function)\u001b[0m\n\u001b[1;32m    559\u001b[0m \u001b[0;32mdef\u001b[0m \u001b[0m_raw_fftnd\u001b[0m\u001b[0;34m(\u001b[0m\u001b[0ma\u001b[0m\u001b[0;34m,\u001b[0m \u001b[0ms\u001b[0m\u001b[0;34m=\u001b[0m\u001b[0mNone\u001b[0m\u001b[0;34m,\u001b[0m \u001b[0maxes\u001b[0m\u001b[0;34m=\u001b[0m\u001b[0mNone\u001b[0m\u001b[0;34m,\u001b[0m \u001b[0mfunction\u001b[0m\u001b[0;34m=\u001b[0m\u001b[0mfft\u001b[0m\u001b[0;34m)\u001b[0m\u001b[0;34m:\u001b[0m\u001b[0;34m\u001b[0m\u001b[0m\n\u001b[1;32m    560\u001b[0m     \u001b[0ma\u001b[0m \u001b[0;34m=\u001b[0m \u001b[0masarray\u001b[0m\u001b[0;34m(\u001b[0m\u001b[0ma\u001b[0m\u001b[0;34m)\u001b[0m\u001b[0;34m\u001b[0m\u001b[0m\n\u001b[0;32m--> 561\u001b[0;31m     \u001b[0ms\u001b[0m\u001b[0;34m,\u001b[0m \u001b[0maxes\u001b[0m \u001b[0;34m=\u001b[0m \u001b[0m_cook_nd_args\u001b[0m\u001b[0;34m(\u001b[0m\u001b[0ma\u001b[0m\u001b[0;34m,\u001b[0m \u001b[0ms\u001b[0m\u001b[0;34m,\u001b[0m \u001b[0maxes\u001b[0m\u001b[0;34m)\u001b[0m\u001b[0;34m\u001b[0m\u001b[0m\n\u001b[0m\u001b[1;32m    562\u001b[0m     \u001b[0mitl\u001b[0m \u001b[0;34m=\u001b[0m \u001b[0mlist\u001b[0m\u001b[0;34m(\u001b[0m\u001b[0mrange\u001b[0m\u001b[0;34m(\u001b[0m\u001b[0mlen\u001b[0m\u001b[0;34m(\u001b[0m\u001b[0maxes\u001b[0m\u001b[0;34m)\u001b[0m\u001b[0;34m)\u001b[0m\u001b[0;34m)\u001b[0m\u001b[0;34m\u001b[0m\u001b[0m\n\u001b[1;32m    563\u001b[0m     \u001b[0mitl\u001b[0m\u001b[0;34m.\u001b[0m\u001b[0mreverse\u001b[0m\u001b[0;34m(\u001b[0m\u001b[0;34m)\u001b[0m\u001b[0;34m\u001b[0m\u001b[0m\n",
        "\u001b[0;32m/Library/Python/2.7/site-packages/numpy-1.9.0.dev_297f54b-py2.7-macosx-10.9-intel.egg/numpy/fft/fftpack.pyc\u001b[0m in \u001b[0;36m_cook_nd_args\u001b[0;34m(a, s, axes, invreal)\u001b[0m\n\u001b[1;32m    547\u001b[0m     \u001b[0;32melse\u001b[0m\u001b[0;34m:\u001b[0m\u001b[0;34m\u001b[0m\u001b[0m\n\u001b[1;32m    548\u001b[0m         \u001b[0mshapeless\u001b[0m \u001b[0;34m=\u001b[0m \u001b[0;36m0\u001b[0m\u001b[0;34m\u001b[0m\u001b[0m\n\u001b[0;32m--> 549\u001b[0;31m     \u001b[0ms\u001b[0m \u001b[0;34m=\u001b[0m \u001b[0mlist\u001b[0m\u001b[0;34m(\u001b[0m\u001b[0ms\u001b[0m\u001b[0;34m)\u001b[0m\u001b[0;34m\u001b[0m\u001b[0m\n\u001b[0m\u001b[1;32m    550\u001b[0m     \u001b[0;32mif\u001b[0m \u001b[0maxes\u001b[0m \u001b[0;32mis\u001b[0m \u001b[0mNone\u001b[0m\u001b[0;34m:\u001b[0m\u001b[0;34m\u001b[0m\u001b[0m\n\u001b[1;32m    551\u001b[0m         \u001b[0maxes\u001b[0m \u001b[0;34m=\u001b[0m \u001b[0mlist\u001b[0m\u001b[0;34m(\u001b[0m\u001b[0mrange\u001b[0m\u001b[0;34m(\u001b[0m\u001b[0;34m-\u001b[0m\u001b[0mlen\u001b[0m\u001b[0;34m(\u001b[0m\u001b[0ms\u001b[0m\u001b[0;34m)\u001b[0m\u001b[0;34m,\u001b[0m \u001b[0;36m0\u001b[0m\u001b[0;34m)\u001b[0m\u001b[0;34m)\u001b[0m\u001b[0;34m\u001b[0m\u001b[0m\n",
        "\u001b[0;31mTypeError\u001b[0m: 'int' object is not iterable"
       ]
      }
     ],
     "prompt_number": 4
    },
    {
     "cell_type": "code",
     "collapsed": false,
     "input": [
      "from numpy import *\n",
      "a = arange(10).reshape(5,2)\n",
      "#print a\n",
      "#print a.shape\n",
      "a = arange(20).reshape(5,2,2)\n",
      "a[1,1,:] = arange(0,2)\n",
      "b = a[0,:,:]\n",
      "print a\n",
      "print b.shape\n",
      "#print a[(1,1,1) , : , :]**2\n",
      "a[a>2]**=2\n",
      "#print a\n",
      "for column in a.flat:\n",
      "    print column\n",
      "a = a.ravel()\n",
      "#print a\n",
      "for i in range(0,10):\n",
      "    print i"
     ],
     "language": "python",
     "metadata": {},
     "outputs": [
      {
       "output_type": "stream",
       "stream": "stdout",
       "text": [
        "[[[ 0  1]\n",
        "  [ 2  3]]\n",
        "\n",
        " [[ 4  5]\n",
        "  [ 0  1]]\n",
        "\n",
        " [[ 8  9]\n",
        "  [10 11]]\n",
        "\n",
        " [[12 13]\n",
        "  [14 15]]\n",
        "\n",
        " [[16 17]\n",
        "  [18 19]]]\n",
        "(2, 2)\n",
        "0\n",
        "1\n",
        "2\n",
        "9\n",
        "16\n",
        "25\n",
        "0\n",
        "1\n",
        "64\n",
        "81\n",
        "100\n",
        "121\n",
        "144\n",
        "169\n",
        "196\n",
        "225\n",
        "256\n",
        "289\n",
        "324\n",
        "361\n",
        "0\n",
        "1\n",
        "2\n",
        "3\n",
        "4\n",
        "5\n",
        "6\n",
        "7\n",
        "8\n",
        "9\n"
       ]
      }
     ],
     "prompt_number": 3
    },
    {
     "cell_type": "code",
     "collapsed": false,
     "input": [
      "from numpy import * \n",
      "f = open('17_2phase.dat', 'r')\n",
      "cur_line = f.readline()\n",
      "while(cur_line != \"\" and \"NUMBER OF ELEMENTS IS\" not in cur_line):\n",
      "    cur_line = f.readline()\n",
      "#get number of elements to loop through\n",
      "num_elements = int((cur_line.split())[4])\n",
      "\n",
      "\n",
      "#find start of element data\n",
      "while(cur_line != \"\" and \"THE FOLLOWING TABLE IS PRINTED FOR ALL ELEMENTS \"\\\n",
      "      \"WITH TYPE C3D8 AT THE INTEGRATION POINTS\" not in cur_line):\n",
      "    cur_line = f.readline()\n",
      "for i in range(0,5):\n",
      "    cur_line = f.readline()\n",
      "    \n",
      "#create storage of element values, only strain in 11 direction currently\n",
      "#numStrains are the numeric values for 11, 22, 33, 12, 13, 23 strains\n",
      "#                         respectively  0,  1, 2 , 3,  4,  5\n",
      "num_strains = range(0,1)\n",
      "dim_length = ceil(num_elements ** (1/3.0))\n",
      "layer_size = dim_length ** 2\n",
      "strains = zeros( (dim_length,dim_length,dim_length,size(num_strains)) )\n",
      "integration_point_strains = zeros( (8,size(num_strains)) )\n",
      "#1st dim = x, 2nd dim = y, 3rd dim = z\n",
      "for i in range(0,num_elements):\n",
      "    z = i%dim_length\n",
      "    y = (i%layer_size)/dim_length\n",
      "    x = i/layer_size\n",
      "    #average strains over the 8 integration points for c3d8\n",
      "    for k in range(0,8):\n",
      "        split_str = cur_line.split()\n",
      "        for j in num_strains:\n",
      "            integration_point_strains[k,j] = float(split_str[2+j])\n",
      "        cur_line = f.readline()\n",
      "    strains[x,y,z,:] = integration_point_strains.mean(axis=0)\n",
      "print strains[0,0,0,0]\n",
      "#for single strain case reshape strains to only 3d array\n",
      "strains = strains[:,:,:,0]\n",
      "response_k = np.fft.fftn(strains)\n",
      "coeff = zeros( (dim_length,dim_length,dim_length, 2) )\n",
      "print response_k.shape[0]\n"
     ],
     "language": "python",
     "metadata": {},
     "outputs": [
      {
       "output_type": "stream",
       "stream": "stdout",
       "text": [
        "0.0009334325\n",
        "21\n"
       ]
      }
     ],
     "prompt_number": 19
    },
    {
     "cell_type": "code",
     "collapsed": false,
     "input": [
      "import csv\n",
      "import numpy as np\n",
      "import pylab as pl\n",
      "from sklearn import datasets, linear_model\n",
      "\n",
      "with open('testData.csv', 'rU') as csvfile:\n",
      "    test = csv.reader(csvfile, dialect='excel')\n",
      "    i = 0\n",
      "    a = array(range(60),dtype=float64).reshape(30,2)\n",
      "    for row in test:\n",
      "        #print type(row)\n",
      "        #print ', '.join(row)\n",
      "        a[i,:] = row[0:2]\n",
      "        i+=1\n",
      "#print a[:,0].reshape(30,1)\n",
      "regr = linear_model.LinearRegression()\n",
      "regr.fit(a[:,0].reshape(30,1), a[:,1].reshape(30,1))\n",
      "print regr.coef_\n",
      "print regr.intercept_\n",
      "print(\"Residual sum of squares: %.2f\" % np.mean((regr.predict(a[:,0].reshape(30,1)) - a[:,1].reshape(30,1)) ** 2))\n"
     ],
     "language": "python",
     "metadata": {},
     "outputs": [
      {
       "output_type": "stream",
       "stream": "stdout",
       "text": [
        "[[ 4.9721438]]\n",
        "[ 3.04935647]\n",
        "Residual sum of squares: 0.77\n"
       ]
      }
     ],
     "prompt_number": 20
    },
    {
     "cell_type": "code",
     "collapsed": false,
     "input": [],
     "language": "python",
     "metadata": {},
     "outputs": []
    }
   ],
   "metadata": {}
  }
 ]
}