{
 "metadata": {
  "name": "",
  "signature": "sha256:9aa5d626656825c8f2d49f24f6f7c931b27e171134a4cbaeb6b2cf0113c6bf84"
 },
 "nbformat": 3,
 "nbformat_minor": 0,
 "worksheets": [
  {
   "cells": [
    {
     "cell_type": "code",
     "collapsed": false,
     "input": [
      "from numpy import *\n",
      "\n",
      "GenC(\n",
      "\n",
      "#convert coefficients back into normal space and plot section to check them dying off\n",
      "\n"
     ],
     "language": "python",
     "metadata": {},
     "outputs": []
    },
    {
     "cell_type": "code",
     "collapsed": false,
     "input": [
      "#def ABstrains(ABout):\n",
      "    ABout = '17_2phase.dat' \n",
      "    f = open(ABout, 'r')\n",
      "    cur_line = f.readline()\n",
      "    while(cur_line != \"\" and \"NUMBER OF ELEMENTS IS\" not in cur_line):\n",
      "        cur_line = f.readline()\n",
      "    #get number of elements to loop through\n",
      "    num_elements = int((cur_line.split())[4])\n",
      "\n",
      "\n",
      "    #find start of element data\n",
      "    while(cur_line != \"\" and \"THE FOLLOWING TABLE IS PRINTED FOR ALL ELEMENTS \"\\\n",
      "          \"WITH TYPE C3D8 AT THE INTEGRATION POINTS\" not in cur_line):\n",
      "        cur_line = f.readline()\n",
      "    for i in range(0,5):\n",
      "        cur_line = f.readline()\n",
      "\n",
      "    #create storage of element values, only strain in 11 direction currently\n",
      "    #numStrains are the numeric values for 11, 22, 33, 12, 13, 23 strains\n",
      "    #                         respectively  0,  1, 2 , 3,  4,  5\n",
      "    num_strains = range(0,1)\n",
      "    dim_length = ceil(num_elements ** (1/3.0))\n",
      "    layer_size = dim_length ** 2\n",
      "    strains = zeros( (dim_length,dim_length,dim_length,size(num_strains)) )\n",
      "    integration_point_strains = zeros( (8,size(num_strains)) )\n",
      "    #1st dim = x, 2nd dim = y, 3rd dim = z\n",
      "    for i in range(0,num_elements):\n",
      "        z = i%dim_length\n",
      "        y = (i%layer_size)/dim_length\n",
      "        x = i/layer_size\n",
      "        #average strains over the 8 integration points for c3d8\n",
      "        for k in range(0,8):\n",
      "            split_str = cur_line.split()\n",
      "            for j in num_strains:\n",
      "                integration_point_strains[k,j] = float(split_str[2+j])\n",
      "            cur_line = f.readline()\n",
      "        strains[x,y,z,:] = integration_point_strains.mean(axis=0)\n",
      "\n",
      "    #for single strain case reshape strains to only 3d array, will need to be changed for time rate to be nxnxnxt in this case \n",
      "    strains = strains[:,:,:,0]\n",
      "#    return strains"
     ],
     "language": "python",
     "metadata": {},
     "outputs": []
    }
   ],
   "metadata": {}
  }
 ]
}